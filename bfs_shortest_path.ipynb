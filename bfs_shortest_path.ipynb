{
 "cells": [
  {
   "cell_type": "code",
   "execution_count": 17,
   "metadata": {
    "collapsed": true
   },
   "outputs": [],
   "source": [
    "def bfs_shortest_path(graph, start, goal):\n",
    "    # keep track of explored nodes\n",
    "    explored = []\n",
    "    # keep track of all the paths to be checked\n",
    "    queue = [[start]]\n",
    " \n",
    "    # return path if start is goal\n",
    "    if start == goal:\n",
    "        return \"That was easy! Start = goal\"\n",
    " \n",
    "    # keeps looping until all possible paths have been checked\n",
    "    while queue:\n",
    "        # pop the first path from the queue\n",
    "        path = queue.pop(0)\n",
    "        # get the last node from the path\n",
    "        node = path[-1]\n",
    "        if node not in explored:\n",
    "            neighbours = graph[node]\n",
    "            # go through all neighbour nodes, construct a new path and\n",
    "            # push it into the queue\n",
    "            for neighbour in neighbours:\n",
    "                new_path = list(path)\n",
    "                new_path.append(neighbour)\n",
    "                queue.append(new_path)\n",
    "                print('queue: ', queue)\n",
    "                # return path if neighbour is goal\n",
    "                if neighbour == goal:\n",
    "                    print(\"explored:\", explored)\n",
    "                    return new_path\n",
    " \n",
    "            # mark node as explored\n",
    "            explored.append(node)\n",
    "    print(\"explored:\", explored)\n",
    " \n",
    "    # in case there's no path between the 2 nodes\n",
    "    return \"So sorry, but a connecting path doesn't exist :(\""
   ]
  },
  {
   "cell_type": "code",
   "execution_count": 18,
   "metadata": {
    "collapsed": true
   },
   "outputs": [],
   "source": [
    "graph = {'A': ['B', 'C', 'G'], 'B': ['F'], 'C': ['E'], 'D': ['J'], 'E': [], 'F': ['H'], 'G': ['I', 'D'],\n",
    "        'H': [], 'I': ['K'], 'J': ['L', 'M'], 'K': [], 'L':[], 'M': []}"
   ]
  },
  {
   "cell_type": "code",
   "execution_count": 20,
   "metadata": {},
   "outputs": [
    {
     "name": "stdout",
     "output_type": "stream",
     "text": [
      "queue:  [['A', 'B']]\n",
      "queue:  [['A', 'B'], ['A', 'C']]\n",
      "queue:  [['A', 'B'], ['A', 'C'], ['A', 'G']]\n",
      "queue:  [['A', 'C'], ['A', 'G'], ['A', 'B', 'F']]\n",
      "queue:  [['A', 'G'], ['A', 'B', 'F'], ['A', 'C', 'E']]\n",
      "queue:  [['A', 'B', 'F'], ['A', 'C', 'E'], ['A', 'G', 'I']]\n",
      "queue:  [['A', 'B', 'F'], ['A', 'C', 'E'], ['A', 'G', 'I'], ['A', 'G', 'D']]\n",
      "queue:  [['A', 'C', 'E'], ['A', 'G', 'I'], ['A', 'G', 'D'], ['A', 'B', 'F', 'H']]\n",
      "queue:  [['A', 'G', 'D'], ['A', 'B', 'F', 'H'], ['A', 'G', 'I', 'K']]\n",
      "queue:  [['A', 'B', 'F', 'H'], ['A', 'G', 'I', 'K'], ['A', 'G', 'D', 'J']]\n",
      "queue:  [['A', 'G', 'D', 'J', 'L']]\n",
      "queue:  [['A', 'G', 'D', 'J', 'L'], ['A', 'G', 'D', 'J', 'M']]\n",
      "explored: ['A', 'B', 'C', 'G', 'F', 'E', 'I', 'D', 'H', 'K']\n",
      "shortest path:  ['A', 'G', 'D', 'J', 'M']\n"
     ]
    }
   ],
   "source": [
    "print(\"shortest path: \", bfs_shortest_path(graph, 'A', 'M'))"
   ]
  }
 ],
 "metadata": {
  "kernelspec": {
   "display_name": "Python 3",
   "language": "python",
   "name": "python3"
  },
  "language_info": {
   "codemirror_mode": {
    "name": "ipython",
    "version": 3
   },
   "file_extension": ".py",
   "mimetype": "text/x-python",
   "name": "python",
   "nbconvert_exporter": "python",
   "pygments_lexer": "ipython3",
   "version": "3.6.1"
  }
 },
 "nbformat": 4,
 "nbformat_minor": 2
}
